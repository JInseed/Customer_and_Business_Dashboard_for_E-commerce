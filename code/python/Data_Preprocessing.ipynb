{
 "cells": [
  {
   "cell_type": "code",
   "execution_count": 1,
   "id": "f81aa4cd",
   "metadata": {},
   "outputs": [],
   "source": [
    "import pandas as pd\n",
    "import numpy as np"
   ]
  },
  {
   "cell_type": "code",
   "execution_count": 2,
   "id": "18d7f0e7",
   "metadata": {},
   "outputs": [],
   "source": [
    "# data load\n",
    "orders = pd.read_csv('./data/orders.csv')\n",
    "marketing_campaigns = pd.read_csv('./data/marketing_campaigns.csv')\n",
    "campaign_product_subcategory = pd.read_csv('./data/campaign_product_subcategory.csv')"
   ]
  },
  {
   "cell_type": "code",
   "execution_count": 3,
   "id": "a5737d67",
   "metadata": {},
   "outputs": [],
   "source": [
    "# marketing_campaigns 행 삽입\n",
    "new_row =  pd.DataFrame([[17,'NoCampaign',0]], columns = marketing_campaigns.columns)\n",
    "marketing_campaigns = pd.concat([marketing_campaigns, new_row], ignore_index = True)"
   ]
  },
  {
   "cell_type": "code",
   "execution_count": 4,
   "id": "041798d3",
   "metadata": {},
   "outputs": [
    {
     "name": "stderr",
     "output_type": "stream",
     "text": [
      "C:\\Users\\82102\\AppData\\Local\\Temp/ipykernel_18424/1604940604.py:2: FutureWarning: A value is trying to be set on a copy of a DataFrame or Series through chained assignment using an inplace method.\n",
      "The behavior will change in pandas 3.0. This inplace method will never work because the intermediate object on which we are setting values always behaves as a copy.\n",
      "\n",
      "For example, when doing 'df[col].method(value, inplace=True)', try using 'df.method({col: value}, inplace=True)' or df[col] = df[col].method(value) instead, to perform the operation inplace on the original object.\n",
      "\n",
      "\n",
      "  orders['campaign_id'].fillna(17,inplace = True)\n"
     ]
    }
   ],
   "source": [
    "# orders 데이터 결측 처리\n",
    "orders['campaign_id'].fillna(17,inplace = True)\n",
    "orders['campaign_id'] = orders['campaign_id'].astype('Int64')"
   ]
  },
  {
   "cell_type": "code",
   "execution_count": 5,
   "id": "0470b361",
   "metadata": {},
   "outputs": [],
   "source": [
    "# 추가할 데이터 생성\n",
    "data_to_add = []\n",
    "campaign_id = 17\n",
    "start_id = 1601\n",
    "end_id = 1700\n",
    "discount = 0\n",
    "\n",
    "for i in range(start_id, end_id + 1):\n",
    "    data_to_add.append((i, campaign_id, i - start_id + 1, discount))\n",
    "\n",
    "# 데이터프레임 생성\n",
    "columns = ['campaign_product_subcategory_id', 'campaign_id', 'subcategory_id', 'discount']\n",
    "df_to_add = pd.DataFrame(data_to_add, columns=columns)\n",
    "\n",
    "# 데이터 병합\n",
    "campaign_product_subcategory = pd.concat([campaign_product_subcategory, df_to_add], ignore_index=True)"
   ]
  },
  {
   "cell_type": "code",
   "execution_count": 6,
   "id": "17dcae84",
   "metadata": {},
   "outputs": [],
   "source": [
    "orders.to_csv('orders.csv', index=False, encoding='UTF-8-sig')\n",
    "marketing_campaigns.to_csv('marketing_campaigns.csv', index=False, encoding='UTF-8-sig')\n",
    "campaign_product_subcategory.to_csv('campaign_product_subcategory.csv', index=False, encoding='UTF-8-sig')"
   ]
  },
  {
   "cell_type": "code",
   "execution_count": null,
   "id": "02908594",
   "metadata": {},
   "outputs": [],
   "source": []
  }
 ],
 "metadata": {
  "kernelspec": {
   "display_name": "Python 3 (ipykernel)",
   "language": "python",
   "name": "python3"
  },
  "language_info": {
   "codemirror_mode": {
    "name": "ipython",
    "version": 3
   },
   "file_extension": ".py",
   "mimetype": "text/x-python",
   "name": "python",
   "nbconvert_exporter": "python",
   "pygments_lexer": "ipython3",
   "version": "3.9.7"
  }
 },
 "nbformat": 4,
 "nbformat_minor": 5
}
